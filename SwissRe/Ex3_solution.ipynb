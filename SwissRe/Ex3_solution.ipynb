{
 "cells": [
  {
   "cell_type": "code",
   "execution_count": 22,
   "metadata": {},
   "outputs": [],
   "source": [
    "import numpy as np"
   ]
  },
  {
   "cell_type": "code",
   "execution_count": 5,
   "metadata": {},
   "outputs": [],
   "source": [
    "filename = \"files/ex3.txt\"\n",
    "\n",
    "with open(filename) as f:\n",
    "    content = f.readlines()\n",
    "content = [x.strip() for x in content] "
   ]
  },
  {
   "cell_type": "code",
   "execution_count": 14,
   "metadata": {},
   "outputs": [],
   "source": [
    "content2 = [x.split() for x in content]\n",
    "content2\n",
    "# content[numero coppia][0 stringa - 1 mosse consentite]"
   ]
  },
  {
   "cell_type": "code",
   "execution_count": 80,
   "metadata": {},
   "outputs": [
    {
     "data": {
      "text/plain": [
       "'00000011'"
      ]
     },
     "execution_count": 80,
     "metadata": {},
     "output_type": "execute_result"
    }
   ],
   "source": []
  },
  {
   "cell_type": "code",
   "execution_count": 64,
   "metadata": {},
   "outputs": [],
   "source": [
    "# flip takes as input a list and change the values of all the number between start and stop\n",
    "def flip(scode,start,stop):\n",
    "    fcode = scode\n",
    "    for n in range(start,stop):\n",
    "        fcode[n] = abs(scode[n] - 1)   \n",
    "    return fcode"
   ]
  },
  {
   "cell_type": "code",
   "execution_count": 71,
   "metadata": {},
   "outputs": [],
   "source": [
    "# positiontoflip takes as input an array and the value(1 or 0) to change and return the start and stop indexes\n",
    "def positiontoflip(array,face_to_change):\n",
    "    position_change = []\n",
    "    array_len = len(array)\n",
    "    \n",
    "    for n in range(array_len):\n",
    "        if array[n] == face_to_change:\n",
    "            position_change.append(n)\n",
    "            \n",
    "    start = min(position_change)\n",
    "    stop = max(position_change)\n",
    "    return start, stop"
   ]
  },
  {
   "cell_type": "code",
   "execution_count": null,
   "metadata": {},
   "outputs": [],
   "source": [
    "# cycle on all the input ... TODO\n",
    "for n in range(10)\n",
    "    array = content2[n][0]\n",
    "    while 1 in array:\n",
    "        positiontoflip(array)\n",
    "        flip(array,start,stop)"
   ]
  }
 ],
 "metadata": {
  "kernelspec": {
   "display_name": "Python 3",
   "language": "python",
   "name": "python3"
  },
  "language_info": {
   "codemirror_mode": {
    "name": "ipython",
    "version": 3
   },
   "file_extension": ".py",
   "mimetype": "text/x-python",
   "name": "python",
   "nbconvert_exporter": "python",
   "pygments_lexer": "ipython3",
   "version": "3.7.0"
  }
 },
 "nbformat": 4,
 "nbformat_minor": 2
}
